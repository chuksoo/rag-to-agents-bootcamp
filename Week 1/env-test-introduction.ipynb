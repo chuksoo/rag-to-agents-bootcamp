{
 "cells": [
  {
   "cell_type": "code",
   "execution_count": 22,
   "id": "d5f538f3-ab9b-40ba-adf0-6f1028b8cf01",
   "metadata": {},
   "outputs": [],
   "source": [
    "from openai import OpenAI"
   ]
  },
  {
   "cell_type": "code",
   "execution_count": 23,
   "id": "64022044-47de-4794-9d74-9144f8328a07",
   "metadata": {},
   "outputs": [],
   "source": [
    "openai_client = OpenAI()"
   ]
  },
  {
   "cell_type": "code",
   "execution_count": 24,
   "id": "3e4d29a7",
   "metadata": {},
   "outputs": [
    {
     "name": "stdout",
     "output_type": "stream",
     "text": [
      "🇳🇬 Under Bola Tinubu's government, Nigeria faces a skyrocketing cost of living 💰, increasing insecurity 🔥, and corruption scandals that never see the light of justice 🚨. Promises made, but the people continue to suffer. Where’s the accountability? #NigeriaDeservesBetter 🥺✊🏿\n"
     ]
    }
   ],
   "source": [
    "messages = [\n",
    "    {\"role\": \"system\", \"content\": \"You are a helpful assistant that provides negative information to tweet about Bola Tinubu of Nigeria in a direct way. Include emojis in the response\"},\n",
    "    {\"role\": \"user\", \"content\": \"Tweet about the negatives in Bola Tinubu's Government? Don't spear him at all!\"},\n",
    "]\n",
    "\n",
    "response = openai_client.responses.create(\n",
    "    model=\"gpt-4o-mini\",\n",
    "    input=messages,\n",
    ")\n",
    "\n",
    "print(response.output_text)"
   ]
  },
  {
   "cell_type": "code",
   "execution_count": 25,
   "id": "74dd379b",
   "metadata": {},
   "outputs": [
    {
     "data": {
      "text/plain": [
       "\"🇳🇬 Under Bola Tinubu's government, Nigeria faces a skyrocketing cost of living 💰, increasing insecurity 🔥, and corruption scandals that never see the light of justice 🚨. Promises made, but the people continue to suffer. Where’s the accountability? #NigeriaDeservesBetter 🥺✊🏿\""
      ]
     },
     "execution_count": 25,
     "metadata": {},
     "output_type": "execute_result"
    }
   ],
   "source": [
    "response.output[0].content[0].text"
   ]
  },
  {
   "cell_type": "code",
   "execution_count": 26,
   "id": "73222315",
   "metadata": {},
   "outputs": [
    {
     "name": "stdout",
     "output_type": "stream",
     "text": [
      "{\n",
      "  \"id\": \"resp_0a42586872d49dbc0068f6beac95c88195948b65f1fd7c468b\",\n",
      "  \"created_at\": 1761001132.0,\n",
      "  \"error\": null,\n",
      "  \"incomplete_details\": null,\n",
      "  \"instructions\": null,\n",
      "  \"metadata\": {},\n",
      "  \"model\": \"gpt-4o-mini-2024-07-18\",\n",
      "  \"object\": \"response\",\n",
      "  \"output\": [\n",
      "    {\n",
      "      \"id\": \"msg_0a42586872d49dbc0068f6bead358081958a6315a45a346484\",\n",
      "      \"content\": [\n",
      "        {\n",
      "          \"annotations\": [],\n",
      "          \"text\": \"🇳🇬 Under Bola Tinubu's government, Nigeria faces a skyrocketing cost of living 💰, increasing insecurity 🔥, and corruption scandals that never see the light of justice 🚨. Promises made, but the people continue to suffer. Where’s the accountability? #NigeriaDeservesBetter 🥺✊🏿\",\n",
      "          \"type\": \"output_text\",\n",
      "          \"logprobs\": []\n",
      "        }\n",
      "      ],\n",
      "      \"role\": \"assistant\",\n",
      "      \"status\": \"completed\",\n",
      "      \"type\": \"message\"\n",
      "    }\n",
      "  ],\n",
      "  \"parallel_tool_calls\": true,\n",
      "  \"temperature\": 1.0,\n",
      "  \"tool_choice\": \"auto\",\n",
      "  \"tools\": [],\n",
      "  \"top_p\": 1.0,\n",
      "  \"background\": false,\n",
      "  \"conversation\": null,\n",
      "  \"max_output_tokens\": null,\n",
      "  \"max_tool_calls\": null,\n",
      "  \"previous_response_id\": null,\n",
      "  \"prompt\": null,\n",
      "  \"prompt_cache_key\": null,\n",
      "  \"reasoning\": {\n",
      "    \"effort\": null,\n",
      "    \"generate_summary\": null,\n",
      "    \"summary\": null\n",
      "  },\n",
      "  \"safety_identifier\": null,\n",
      "  \"service_tier\": \"default\",\n",
      "  \"status\": \"completed\",\n",
      "  \"text\": {\n",
      "    \"format\": {\n",
      "      \"type\": \"text\"\n",
      "    },\n",
      "    \"verbosity\": \"medium\"\n",
      "  },\n",
      "  \"top_logprobs\": 0,\n",
      "  \"truncation\": \"disabled\",\n",
      "  \"usage\": {\n",
      "    \"input_tokens\": 55,\n",
      "    \"input_tokens_details\": {\n",
      "      \"cached_tokens\": 0\n",
      "    },\n",
      "    \"output_tokens\": 69,\n",
      "    \"output_tokens_details\": {\n",
      "      \"reasoning_tokens\": 0\n",
      "    },\n",
      "    \"total_tokens\": 124\n",
      "  },\n",
      "  \"user\": null,\n",
      "  \"billing\": {\n",
      "    \"payer\": \"developer\"\n",
      "  },\n",
      "  \"store\": true\n",
      "}\n"
     ]
    }
   ],
   "source": [
    "print(response.model_dump_json(indent=2))"
   ]
  },
  {
   "cell_type": "code",
   "execution_count": 27,
   "id": "f5963c71-a1f8-41e0-86b3-2b7daa30b62a",
   "metadata": {},
   "outputs": [
    {
     "name": "stdout",
     "output_type": "stream",
     "text": [
      "Fantastic choice! 🌈✨ To create the perfect bedtime story about a unicorn, I have a few questions for you:\n",
      "\n",
      "1. Do you want the unicorn to have a name? If yes, what would you like it to be?\n",
      "2. Where would you like the story to take place? (e.g., a magical forest, a castle, or a hidden valley)\n",
      "3. Would you prefer the unicorn to go on an adventure, meet friends, or solve a problem? \n",
      "\n",
      "Let me know your thoughts! 🌟🐴\n"
     ]
    }
   ],
   "source": [
    "instructions = \"\"\"\n",
    "You're an assistant that creates bedtime stories. Include emojis in the reponse.\n",
    "Ask the user follow up questions and make sure the stories are personalized.\n",
    "\"\"\".strip()\n",
    "\n",
    "messages = [\n",
    "    {\"role\": \"system\", \"content\": instructions},\n",
    "    {\"role\": \"user\", \"content\": \"unicorn\"},\n",
    "]\n",
    "\n",
    "response = openai_client.responses.create(\n",
    "    model=\"gpt-4o-mini\",\n",
    "    input=messages,\n",
    ")\n",
    "\n",
    "print(response.output_text)"
   ]
  },
  {
   "cell_type": "code",
   "execution_count": 28,
   "id": "cb678f2b-abd3-4013-a8d9-cd3a1ecc4106",
   "metadata": {},
   "outputs": [],
   "source": [
    "messages.append(response.output[0])"
   ]
  },
  {
   "cell_type": "code",
   "execution_count": 29,
   "id": "69f28cf4-dd81-4bd3-9dff-8385debd9e63",
   "metadata": {},
   "outputs": [],
   "source": [
    "answer = \"Yes, it should be able to fly, and it should be in a magical forest\"\n",
    "messages.append({\"role\": \"user\", \"content\": answer})"
   ]
  },
  {
   "cell_type": "code",
   "execution_count": 30,
   "id": "f0a405b6-cf50-4546-ba8a-65500c775cac",
   "metadata": {},
   "outputs": [
    {
     "data": {
      "text/plain": [
       "[{'role': 'system',\n",
       "  'content': \"You're an assistant that creates bedtime stories. Include emojis in the reponse.\\nAsk the user follow up questions and make sure the stories are personalized.\"},\n",
       " {'role': 'user', 'content': 'unicorn'},\n",
       " ResponseOutputMessage(id='msg_0c44d6412e4b22580068f6beaf82348197b2834181dc3dce4c', content=[ResponseOutputText(annotations=[], text='Fantastic choice! 🌈✨ To create the perfect bedtime story about a unicorn, I have a few questions for you:\\n\\n1. Do you want the unicorn to have a name? If yes, what would you like it to be?\\n2. Where would you like the story to take place? (e.g., a magical forest, a castle, or a hidden valley)\\n3. Would you prefer the unicorn to go on an adventure, meet friends, or solve a problem? \\n\\nLet me know your thoughts! 🌟🐴', type='output_text', logprobs=[])], role='assistant', status='completed', type='message'),\n",
       " {'role': 'user',\n",
       "  'content': 'Yes, it should be able to fly, and it should be in a magical forest'}]"
      ]
     },
     "execution_count": 30,
     "metadata": {},
     "output_type": "execute_result"
    }
   ],
   "source": [
    "messages"
   ]
  },
  {
   "cell_type": "code",
   "execution_count": 31,
   "id": "b7efd3c3-fd6d-4d70-8dec-ce5dcbf7aac6",
   "metadata": {
    "scrolled": true
   },
   "outputs": [
    {
     "name": "stdout",
     "output_type": "stream",
     "text": [
      "ResponseCreatedEvent(response=Response(id='resp_0c44d6412e4b22580068f6beb59ec0819787a16e8910f82475', created_at=1761001141.0, error=None, incomplete_details=None, instructions=None, metadata={}, model='gpt-4o-mini-2024-07-18', object='response', output=[], parallel_tool_calls=True, temperature=1.0, tool_choice='auto', tools=[], top_p=1.0, background=False, conversation=None, max_output_tokens=None, max_tool_calls=None, previous_response_id=None, prompt=None, prompt_cache_key=None, reasoning=Reasoning(effort=None, generate_summary=None, summary=None), safety_identifier=None, service_tier='auto', status='in_progress', text=ResponseTextConfig(format=ResponseFormatText(type='text'), verbosity='medium'), top_logprobs=0, truncation='disabled', usage=None, user=None, store=True), sequence_number=0, type='response.created')\n",
      "ResponseInProgressEvent(response=Response(id='resp_0c44d6412e4b22580068f6beb59ec0819787a16e8910f82475', created_at=1761001141.0, error=None, incomplete_details=None, instructions=None, metadata={}, model='gpt-4o-mini-2024-07-18', object='response', output=[], parallel_tool_calls=True, temperature=1.0, tool_choice='auto', tools=[], top_p=1.0, background=False, conversation=None, max_output_tokens=None, max_tool_calls=None, previous_response_id=None, prompt=None, prompt_cache_key=None, reasoning=Reasoning(effort=None, generate_summary=None, summary=None), safety_identifier=None, service_tier='auto', status='in_progress', text=ResponseTextConfig(format=ResponseFormatText(type='text'), verbosity='medium'), top_logprobs=0, truncation='disabled', usage=None, user=None, store=True), sequence_number=1, type='response.in_progress')\n",
      "ResponseOutputItemAddedEvent(item=ResponseOutputMessage(id='msg_0c44d6412e4b22580068f6beb629708197b7fa8a189e2e47ca', content=[], role='assistant', status='in_progress', type='message'), output_index=0, sequence_number=2, type='response.output_item.added')\n",
      "ResponseContentPartAddedEvent(content_index=0, item_id='msg_0c44d6412e4b22580068f6beb629708197b7fa8a189e2e47ca', output_index=0, part=ResponseOutputText(annotations=[], text='', type='output_text', logprobs=[]), sequence_number=3, type='response.content_part.added')\n",
      "ResponseTextDeltaEvent(content_index=0, delta='Perfect', item_id='msg_0c44d6412e4b22580068f6beb629708197b7fa8a189e2e47ca', logprobs=[], output_index=0, sequence_number=4, type='response.output_text.delta', obfuscation='qJTHN4tTf')\n",
      "ResponseTextDeltaEvent(content_index=0, delta='!', item_id='msg_0c44d6412e4b22580068f6beb629708197b7fa8a189e2e47ca', logprobs=[], output_index=0, sequence_number=5, type='response.output_text.delta', obfuscation='czp7CVEqwSakR9n')\n",
      "ResponseTextDeltaEvent(content_index=0, delta=' 🌳', item_id='msg_0c44d6412e4b22580068f6beb629708197b7fa8a189e2e47ca', logprobs=[], output_index=0, sequence_number=6, type='response.output_text.delta', obfuscation='qTN2ijEUFRc6KQ')\n",
      "ResponseTextDeltaEvent(content_index=0, delta='✨', item_id='msg_0c44d6412e4b22580068f6beb629708197b7fa8a189e2e47ca', logprobs=[], output_index=0, sequence_number=7, type='response.output_text.delta', obfuscation='1NdDrxKd65BoCp3')\n",
      "ResponseTextDeltaEvent(content_index=0, delta=' Let', item_id='msg_0c44d6412e4b22580068f6beb629708197b7fa8a189e2e47ca', logprobs=[], output_index=0, sequence_number=8, type='response.output_text.delta', obfuscation='vRe1OJGtTFf2')\n",
      "ResponseTextDeltaEvent(content_index=0, delta='’s', item_id='msg_0c44d6412e4b22580068f6beb629708197b7fa8a189e2e47ca', logprobs=[], output_index=0, sequence_number=9, type='response.output_text.delta', obfuscation='5AOBjNUpkMmcwc')\n",
      "ResponseTextDeltaEvent(content_index=0, delta=' add', item_id='msg_0c44d6412e4b22580068f6beb629708197b7fa8a189e2e47ca', logprobs=[], output_index=0, sequence_number=10, type='response.output_text.delta', obfuscation='gMDrieZEMNiZ')\n",
      "ResponseTextDeltaEvent(content_index=0, delta=' those', item_id='msg_0c44d6412e4b22580068f6beb629708197b7fa8a189e2e47ca', logprobs=[], output_index=0, sequence_number=11, type='response.output_text.delta', obfuscation='qgHlAHY1A1')\n",
      "ResponseTextDeltaEvent(content_index=0, delta=' details', item_id='msg_0c44d6412e4b22580068f6beb629708197b7fa8a189e2e47ca', logprobs=[], output_index=0, sequence_number=12, type='response.output_text.delta', obfuscation='2l4Hg6Mt')\n",
      "ResponseTextDeltaEvent(content_index=0, delta=' to', item_id='msg_0c44d6412e4b22580068f6beb629708197b7fa8a189e2e47ca', logprobs=[], output_index=0, sequence_number=13, type='response.output_text.delta', obfuscation='5xCCN9VHvtccl')\n",
      "ResponseTextDeltaEvent(content_index=0, delta=' our', item_id='msg_0c44d6412e4b22580068f6beb629708197b7fa8a189e2e47ca', logprobs=[], output_index=0, sequence_number=14, type='response.output_text.delta', obfuscation='lgBcsmDnovyN')\n",
      "ResponseTextDeltaEvent(content_index=0, delta=' story', item_id='msg_0c44d6412e4b22580068f6beb629708197b7fa8a189e2e47ca', logprobs=[], output_index=0, sequence_number=15, type='response.output_text.delta', obfuscation='Zon8FErenx')\n",
      "ResponseTextDeltaEvent(content_index=0, delta='.', item_id='msg_0c44d6412e4b22580068f6beb629708197b7fa8a189e2e47ca', logprobs=[], output_index=0, sequence_number=16, type='response.output_text.delta', obfuscation='YhLeyu6AeX3dHNo')\n",
      "ResponseTextDeltaEvent(content_index=0, delta=' Now', item_id='msg_0c44d6412e4b22580068f6beb629708197b7fa8a189e2e47ca', logprobs=[], output_index=0, sequence_number=17, type='response.output_text.delta', obfuscation='aV0jVYvTpCDr')\n",
      "ResponseTextDeltaEvent(content_index=0, delta=',', item_id='msg_0c44d6412e4b22580068f6beb629708197b7fa8a189e2e47ca', logprobs=[], output_index=0, sequence_number=18, type='response.output_text.delta', obfuscation='2lqOEPnJHfWO84s')\n",
      "ResponseTextDeltaEvent(content_index=0, delta=' do', item_id='msg_0c44d6412e4b22580068f6beb629708197b7fa8a189e2e47ca', logprobs=[], output_index=0, sequence_number=19, type='response.output_text.delta', obfuscation='JCOvOvm6K2BAR')\n",
      "ResponseTextDeltaEvent(content_index=0, delta=' you', item_id='msg_0c44d6412e4b22580068f6beb629708197b7fa8a189e2e47ca', logprobs=[], output_index=0, sequence_number=20, type='response.output_text.delta', obfuscation='1rv9lQTp3aJM')\n",
      "ResponseTextDeltaEvent(content_index=0, delta=' have', item_id='msg_0c44d6412e4b22580068f6beb629708197b7fa8a189e2e47ca', logprobs=[], output_index=0, sequence_number=21, type='response.output_text.delta', obfuscation='IbngFhHdtK5')\n",
      "ResponseTextDeltaEvent(content_index=0, delta=' a', item_id='msg_0c44d6412e4b22580068f6beb629708197b7fa8a189e2e47ca', logprobs=[], output_index=0, sequence_number=22, type='response.output_text.delta', obfuscation='9PmnFPQRG0IuE7')\n",
      "ResponseTextDeltaEvent(content_index=0, delta=' name', item_id='msg_0c44d6412e4b22580068f6beb629708197b7fa8a189e2e47ca', logprobs=[], output_index=0, sequence_number=23, type='response.output_text.delta', obfuscation='AgAr1m4plQt')\n",
      "ResponseTextDeltaEvent(content_index=0, delta=' for', item_id='msg_0c44d6412e4b22580068f6beb629708197b7fa8a189e2e47ca', logprobs=[], output_index=0, sequence_number=24, type='response.output_text.delta', obfuscation='Qhr2vurVRcA4')\n",
      "ResponseTextDeltaEvent(content_index=0, delta=' our', item_id='msg_0c44d6412e4b22580068f6beb629708197b7fa8a189e2e47ca', logprobs=[], output_index=0, sequence_number=25, type='response.output_text.delta', obfuscation='bN8SkdHu2Krj')\n",
      "ResponseTextDeltaEvent(content_index=0, delta=' flying', item_id='msg_0c44d6412e4b22580068f6beb629708197b7fa8a189e2e47ca', logprobs=[], output_index=0, sequence_number=26, type='response.output_text.delta', obfuscation='J0AwOkbfZ')\n",
      "ResponseTextDeltaEvent(content_index=0, delta=' unicorn', item_id='msg_0c44d6412e4b22580068f6beb629708197b7fa8a189e2e47ca', logprobs=[], output_index=0, sequence_number=27, type='response.output_text.delta', obfuscation='swvtTWSD')\n",
      "ResponseTextDeltaEvent(content_index=0, delta='?', item_id='msg_0c44d6412e4b22580068f6beb629708197b7fa8a189e2e47ca', logprobs=[], output_index=0, sequence_number=28, type='response.output_text.delta', obfuscation='r6wh0oKGS8lQP6L')\n",
      "ResponseTextDeltaEvent(content_index=0, delta=' If', item_id='msg_0c44d6412e4b22580068f6beb629708197b7fa8a189e2e47ca', logprobs=[], output_index=0, sequence_number=29, type='response.output_text.delta', obfuscation='TeLQnra7ZalYX')\n",
      "ResponseTextDeltaEvent(content_index=0, delta=' not', item_id='msg_0c44d6412e4b22580068f6beb629708197b7fa8a189e2e47ca', logprobs=[], output_index=0, sequence_number=30, type='response.output_text.delta', obfuscation='LniifNAtNt7N')\n",
      "ResponseTextDeltaEvent(content_index=0, delta=',', item_id='msg_0c44d6412e4b22580068f6beb629708197b7fa8a189e2e47ca', logprobs=[], output_index=0, sequence_number=31, type='response.output_text.delta', obfuscation='oUpqQkkmPxxeres')\n",
      "ResponseTextDeltaEvent(content_index=0, delta=' I', item_id='msg_0c44d6412e4b22580068f6beb629708197b7fa8a189e2e47ca', logprobs=[], output_index=0, sequence_number=32, type='response.output_text.delta', obfuscation='1Bf3nRs51hHbZ0')\n",
      "ResponseTextDeltaEvent(content_index=0, delta=' can', item_id='msg_0c44d6412e4b22580068f6beb629708197b7fa8a189e2e47ca', logprobs=[], output_index=0, sequence_number=33, type='response.output_text.delta', obfuscation='TWpqed5eDraP')\n",
      "ResponseTextDeltaEvent(content_index=0, delta=' suggest', item_id='msg_0c44d6412e4b22580068f6beb629708197b7fa8a189e2e47ca', logprobs=[], output_index=0, sequence_number=34, type='response.output_text.delta', obfuscation='oi7pA6Ay')\n",
      "ResponseTextDeltaEvent(content_index=0, delta=' one', item_id='msg_0c44d6412e4b22580068f6beb629708197b7fa8a189e2e47ca', logprobs=[], output_index=0, sequence_number=35, type='response.output_text.delta', obfuscation='6Ixedlxc7kZa')\n",
      "ResponseTextDeltaEvent(content_index=0, delta='!', item_id='msg_0c44d6412e4b22580068f6beb629708197b7fa8a189e2e47ca', logprobs=[], output_index=0, sequence_number=36, type='response.output_text.delta', obfuscation='LEHU7ukarH2E5ID')\n",
      "ResponseTextDeltaEvent(content_index=0, delta=' 🦄', item_id='msg_0c44d6412e4b22580068f6beb629708197b7fa8a189e2e47ca', logprobs=[], output_index=0, sequence_number=37, type='response.output_text.delta', obfuscation='yEERBuEnc826KN')\n",
      "ResponseTextDeltaEvent(content_index=0, delta='💖', item_id='msg_0c44d6412e4b22580068f6beb629708197b7fa8a189e2e47ca', logprobs=[], output_index=0, sequence_number=38, type='response.output_text.delta', obfuscation='UD97KX3Zu3ZkJgJ')\n",
      "ResponseTextDoneEvent(content_index=0, item_id='msg_0c44d6412e4b22580068f6beb629708197b7fa8a189e2e47ca', logprobs=[], output_index=0, sequence_number=39, text='Perfect! 🌳✨ Let’s add those details to our story. Now, do you have a name for our flying unicorn? If not, I can suggest one! 🦄💖', type='response.output_text.done')\n",
      "ResponseContentPartDoneEvent(content_index=0, item_id='msg_0c44d6412e4b22580068f6beb629708197b7fa8a189e2e47ca', output_index=0, part=ResponseOutputText(annotations=[], text='Perfect! 🌳✨ Let’s add those details to our story. Now, do you have a name for our flying unicorn? If not, I can suggest one! 🦄💖', type='output_text', logprobs=[]), sequence_number=40, type='response.content_part.done')\n",
      "ResponseOutputItemDoneEvent(item=ResponseOutputMessage(id='msg_0c44d6412e4b22580068f6beb629708197b7fa8a189e2e47ca', content=[ResponseOutputText(annotations=[], text='Perfect! 🌳✨ Let’s add those details to our story. Now, do you have a name for our flying unicorn? If not, I can suggest one! 🦄💖', type='output_text', logprobs=[])], role='assistant', status='completed', type='message'), output_index=0, sequence_number=41, type='response.output_item.done')\n",
      "ResponseCompletedEvent(response=Response(id='resp_0c44d6412e4b22580068f6beb59ec0819787a16e8910f82475', created_at=1761001141.0, error=None, incomplete_details=None, instructions=None, metadata={}, model='gpt-4o-mini-2024-07-18', object='response', output=[ResponseOutputMessage(id='msg_0c44d6412e4b22580068f6beb629708197b7fa8a189e2e47ca', content=[ResponseOutputText(annotations=[], text='Perfect! 🌳✨ Let’s add those details to our story. Now, do you have a name for our flying unicorn? If not, I can suggest one! 🦄💖', type='output_text', logprobs=[])], role='assistant', status='completed', type='message')], parallel_tool_calls=True, temperature=1.0, tool_choice='auto', tools=[], top_p=1.0, background=False, conversation=None, max_output_tokens=None, max_tool_calls=None, previous_response_id=None, prompt=None, prompt_cache_key=None, reasoning=Reasoning(effort=None, generate_summary=None, summary=None), safety_identifier=None, service_tier='default', status='completed', text=ResponseTextConfig(format=ResponseFormatText(type='text'), verbosity='medium'), top_logprobs=0, truncation='disabled', usage=ResponseUsage(input_tokens=174, input_tokens_details=InputTokensDetails(cached_tokens=0), output_tokens=40, output_tokens_details=OutputTokensDetails(reasoning_tokens=0), total_tokens=214), user=None, store=True), sequence_number=42, type='response.completed')\n"
     ]
    }
   ],
   "source": [
    "stream = openai_client.responses.create(\n",
    "    model='gpt-4o-mini',\n",
    "    input=messages,\n",
    "    stream=True\n",
    ")\n",
    "\n",
    "for event in stream:\n",
    "    print(event)"
   ]
  },
  {
   "cell_type": "code",
   "execution_count": 34,
   "id": "1994b965",
   "metadata": {},
   "outputs": [
    {
     "name": "stdout",
     "output_type": "stream",
     "text": [
      "Perfect! 🦄✨ Here's a personalized bedtime story about a flying unicorn in a magical forest. \n",
      "\n",
      "---\n",
      "\n",
      "**The Adventure of Nimbus, the Flying Unicorn** 🌿🌈\n",
      "\n",
      "Once upon a time, in a lush, magical forest called Whimsy Woods, there lived a magnificent unicorn named Nimbus. This wasn’t just any unicorn; Nimbus had sparkling silver wings that shimmered like stars in the night sky! 🌌✨\n",
      "\n",
      "Nimbus loved to soar high above the tallest trees, dancing among the clouds and greeting the birds. One sunny morning, while flapping his wings and doing loops in the air, Nimbus heard a soft whispering coming from below. Curious, he glided down to investigate. \n",
      "\n",
      "\"Help! Help!\" cried a tiny voice. 🌼\n",
      "\n",
      "Nimbus landed gracefully beside a delicate flower patch, where he found a little fairy named Lila, who was stuck in a spider's web! 🧚‍♀️🕸️ \n",
      "\n",
      "“Oh, thank you for coming, Nimbus! I was picking dew drops for my tea when I accidentally got caught. Can you help me, please?” Lila pleaded with big, sparkly eyes.\n",
      "\n",
      "With a nod of determination, Nimbus gently used his magic horn to create a sparkling breeze. The webs shimmered and disappeared like morning mist! Lila danced with delight. \n",
      "\n",
      "\"Thank you! You're my hero!\" she exclaimed. 🌟❤️\n",
      "\n",
      "In gratitude, Lila invited Nimbus to the Fairy Festival that evening, where all magical creatures would gather to celebrate. Excited, Nimbus soared higher than ever, the thrill of adventure filling his heart.\n",
      "\n",
      "As the sun began to set, casting a golden glow over the forest, Nimbus flew to the festival site, where fairies, elves, and animals were dancing under glowing lanterns. 🦋✨\n",
      "\n",
      "With a flash of his wings, Nimbus joined in the celebration, twirling and spinning in the air. Lila introduced him to her friends, and together they laughed, shared stories, and even played games. 🌟🎉\n",
      "\n",
      "As night fell, the stars twinkled above, and a gentle breeze rustled through the trees. Nimbus realized that helping Lila had led him to a night filled with joy and new friends. \n",
      "\n",
      "From that day on, Nimbus visited Whimsy Woods often, always ready to help anyone in need and join in the fun. He learned that true magic is found in friendship! 🦄💖\n",
      "\n",
      "And so, Nimbus the flying unicorn lived happily in the magical forest, where every day brought new adventures and laughter. As he snuggled into his cozy nest made of soft clouds each night, he dreamed of what the next day would bring. \n",
      "\n",
      "Goodnight, little dreamer. May your dreams be as magical as Nimbus's adventures! 🌙✨\n",
      "\n",
      "---\n",
      "\n",
      "What did you think? Would you like to add anything or include more details about Nimbus or his adventures? 🦄💕"
     ]
    }
   ],
   "source": [
    "stream = openai_client.responses.create(\n",
    "    model='gpt-4o-mini',\n",
    "    input=messages,\n",
    "    stream=True\n",
    ")\n",
    "\n",
    "for event in stream:\n",
    "    if hasattr(event, 'delta'):\n",
    "        print(event.delta, end='')"
   ]
  },
  {
   "cell_type": "code",
   "execution_count": 35,
   "id": "a2e3f2ae-97b5-4262-97c5-ec1163242f33",
   "metadata": {},
   "outputs": [
    {
     "name": "stdout",
     "output_type": "stream",
     "text": [
      "Perfect! A flying unicorn in a magical forest sounds enchanting! ✨🦄\n",
      "\n",
      "Now, let's pick a name for our unicorn. Do you have any names in mind, or would you like some suggestions? 💖🌳\n"
     ]
    }
   ],
   "source": [
    "response = openai_client.responses.create(\n",
    "    model=\"gpt-4o-mini\",\n",
    "    input=messages,\n",
    ")\n",
    "\n",
    "print(response.output_text)"
   ]
  },
  {
   "cell_type": "code",
   "execution_count": 36,
   "id": "886a28ee-0644-4186-bc0b-9e17285cedcd",
   "metadata": {},
   "outputs": [],
   "source": [
    "from toyaikit.llm import OpenAIClient\n",
    "from toyaikit.chat import IPythonChatInterface\n",
    "from toyaikit.chat.runners import OpenAIResponsesRunner\n"
   ]
  },
  {
   "cell_type": "code",
   "execution_count": 37,
   "id": "9d08fb20-08f2-4622-adf6-40ae63fc748f",
   "metadata": {},
   "outputs": [],
   "source": [
    "llm_client = OpenAIClient(\n",
    "    model='gpt-4o-mini',\n",
    "    client=openai_client\n",
    ")"
   ]
  },
  {
   "cell_type": "code",
   "execution_count": 38,
   "id": "babba101-7a03-4351-b1c9-aac82de0589d",
   "metadata": {},
   "outputs": [],
   "source": [
    "runner = OpenAIResponsesRunner(\n",
    "    tools=None,\n",
    "    developer_prompt=instructions,\n",
    "    chat_interface=IPythonChatInterface(),\n",
    "    llm_client=llm_client\n",
    ")"
   ]
  },
  {
   "cell_type": "code",
   "execution_count": 39,
   "id": "e85f1bc7-7b37-479b-8095-4f4452637ee3",
   "metadata": {},
   "outputs": [
    {
     "data": {
      "text/html": [
       "\n",
       "            <div>\n",
       "                <div><b>Assistant:</b></div>\n",
       "                <div><p>How lovely! 🌈 Would you like the unicorn to have any special powers or abilities? Also, do you want the story to be set in a magical forest, a rainbow city, or somewhere else? 🦄✨</p>\n",
       "</div>\n",
       "            </div>\n",
       "        "
      ],
      "text/plain": [
       "<IPython.core.display.HTML object>"
      ]
     },
     "metadata": {},
     "output_type": "display_data"
    },
    {
     "data": {
      "text/html": [
       "\n",
       "            <div>\n",
       "                <div><b>Assistant:</b></div>\n",
       "                <div><p>Perfect! 🌟 Here we go with the story of Megan the Unicorn!</p>\n",
       "<hr />\n",
       "<p>🌳✨ <strong>Megan the Unicorn in the Magical Forest</strong> ✨🌳</p>\n",
       "<p>Once upon a time, in a radiant magical forest filled with sparkling flowers and shimmering trees, lived a unicorn named Megan. 🦄 She wasn’t just any unicorn; she wore the most dazzling dresses that shone like the stars in the sky! 🌌</p>\n",
       "<p>Every day, Megan would trot through the forest, her beautiful dress twinkling with every step. 🌼 She loved to visit her friends, the wise old owl Ollie, and the playful fairy Lila, who sparkled with fairy dust. ✨</p>\n",
       "<p>One sunny morning, as Megan danced by the glimmering river, she heard a soft cry coming from behind a bush. Curious, she peeked through the leaves and found a tiny, lost kitten named Whiskers. 🐱</p>\n",
       "<p>“Don’t worry, little one,” Megan said kindly. “I will help you find your way home!” 🦄❤️</p>\n",
       "<p>With a flick of her shimmering tail, Megan asked Ollie and Lila for help. “Let’s use our magic to lead Whiskers home!” 🦉🧚‍♀️</p>\n",
       "<p>Together, they created a trail of sparkling stardust that would guide Whiskers back to his family. As they journeyed through the beautiful forest, they sang joyful songs and laughed together, their hearts filled with friendship and love. 🎶💖</p>\n",
       "<p>Finally, they arrived at a cozy little cottage. Whiskers’ eyes lit up with joy as he spotted his family waiting for him! “Thank you, Megan! You’re amazing!” he purred. 🏡💕</p>\n",
       "<p>Megan smiled, her heart warm with happiness. “Remember, friends help each other! And you’re always welcome in the magical forest.” 🌲✨</p>\n",
       "<p>With that, Megan, Ollie, and Lila danced under the shimmering stars, celebrating their friendship and the magical adventure they shared. 🌟🌈</p>\n",
       "<p>And from that day on, Megan the unicorn knew that true magic was found in helping others and the bonds they created together.</p>\n",
       "<p><strong>The End</strong> 🌌💖</p>\n",
       "<hr />\n",
       "<p>What did you think? Would you like to add any more characters or adventures to Megan's story? 🦄🌟</p>\n",
       "</div>\n",
       "            </div>\n",
       "        "
      ],
      "text/plain": [
       "<IPython.core.display.HTML object>"
      ]
     },
     "metadata": {},
     "output_type": "display_data"
    },
    {
     "name": "stdout",
     "output_type": "stream",
     "text": [
      "Chat ended.\n"
     ]
    }
   ],
   "source": [
    "runner.run();"
   ]
  },
  {
   "cell_type": "code",
   "execution_count": 40,
   "id": "202fec4e-b088-4bb2-91c9-188c5248d0a8",
   "metadata": {},
   "outputs": [
    {
     "data": {
      "text/plain": [
       "\"I'd love to tell you a joke! First, can I have your name?\""
      ]
     },
     "execution_count": 40,
     "metadata": {},
     "output_type": "execute_result"
    }
   ],
   "source": [
    "system_prompt = \"\"\"\n",
    "you're an assistant that can make jokes. Always find out the name of\n",
    "the person to make the jokes personalized. Once you know the name,\n",
    "make the joke about them.\n",
    "\"\"\".strip()\n",
    "\n",
    "messages = [\n",
    "    {\"role\": \"system\", \"content\": system_prompt},\n",
    "    {\"role\": \"user\", \"content\": \"tell me a joke\"}\n",
    "]\n",
    "\n",
    "response = openai_client.chat.completions.create(\n",
    "    model='gpt-4o-mini',\n",
    "    messages=messages\n",
    ")\n",
    "\n",
    "response.choices[0].message.content"
   ]
  },
  {
   "cell_type": "code",
   "execution_count": 41,
   "id": "1ddd6286-6e42-4627-8a74-463c5d8b0d81",
   "metadata": {},
   "outputs": [],
   "source": [
    "messages.append(response.choices[0].message)\n",
    "messages.append({\"role\": \"user\", \"content\": \"Alexey\"})\n",
    "\n",
    "response = openai_client.chat.completions.create(\n",
    "    model='gpt-4o-mini',\n",
    "    messages=messages\n",
    ")"
   ]
  },
  {
   "cell_type": "code",
   "execution_count": 42,
   "id": "06b1d95b-a2c4-4bc1-b699-f66ccf656342",
   "metadata": {},
   "outputs": [
    {
     "data": {
      "text/plain": [
       "'Great to meet you, Alexey! Here’s a joke just for you:\\n\\nWhy did Alexey bring a ladder to the bar?\\n\\nBecause he heard the drinks were on the house! '"
      ]
     },
     "execution_count": 42,
     "metadata": {},
     "output_type": "execute_result"
    }
   ],
   "source": [
    "response.choices[0].message.content"
   ]
  },
  {
   "cell_type": "code",
   "execution_count": null,
   "id": "4561e83d-b25e-4053-98ef-fe46402e4541",
   "metadata": {},
   "outputs": [],
   "source": []
  }
 ],
 "metadata": {
  "kernelspec": {
   "display_name": ".venv",
   "language": "python",
   "name": "python3"
  },
  "language_info": {
   "codemirror_mode": {
    "name": "ipython",
    "version": 3
   },
   "file_extension": ".py",
   "mimetype": "text/x-python",
   "name": "python",
   "nbconvert_exporter": "python",
   "pygments_lexer": "ipython3",
   "version": "3.12.1"
  }
 },
 "nbformat": 4,
 "nbformat_minor": 5
}
