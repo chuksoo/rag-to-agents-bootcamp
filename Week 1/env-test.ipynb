{
 "cells": [
  {
   "cell_type": "code",
   "execution_count": 1,
   "id": "37ffb611-d8d8-4630-ad2a-2db32ac5257e",
   "metadata": {},
   "outputs": [],
   "source": [
    "from openai import OpenAI"
   ]
  },
  {
   "cell_type": "code",
   "execution_count": 2,
   "id": "d37e5ff8-cc9e-4b84-a276-6d5a7387e770",
   "metadata": {},
   "outputs": [],
   "source": [
    "openai_client = OpenAI()"
   ]
  },
  {
   "cell_type": "code",
   "execution_count": 3,
   "id": "c6120fa2-e91e-4afa-9a04-ad6cbb0b3e63",
   "metadata": {},
   "outputs": [
    {
     "name": "stdout",
     "output_type": "stream",
     "text": [
      "**Luna and the Starry Night**\n",
      "\n",
      "Once upon a time, in a magical forest filled with whispering trees and sparkling flowers, there lived a gentle unicorn named Luna. She had a shimmering white coat that glowed under the moonlight and a mane that sparkled like stars.\n",
      "\n",
      "Every night, Luna would gaze up at the night sky, dreaming of the twinkling stars that danced above her. One evening, as Luna wandered to her favorite meadow, she noticed a little star that seemed to be crying. Curious and concerned, she approached the glowing star.\n",
      "\n",
      "“Why are you sad, little star?” Luna asked softly.\n",
      "\n",
      "The star twinkled and replied, “I’ve lost my way home. Without the other stars to guide me, I feel lonely and out of place.”\n",
      "\n",
      "Luna’s heart filled with compassion. “Don’t worry! I’ll help you find your way back,” she promised.\n",
      "\n",
      "With a flick of her magical horn, Luna created a sparkling trail of stardust. The star brightened a little, feeling hopeful. Together, they followed the shimmering path through the forest, past the singing streams and the dreaming flowers.\n",
      "\n",
      "“All we need is a little more light,” Luna said, and with that, she sang a sweet melody. Her beautiful voice echoed in the night, attracting the other stars. One by one, they twinkled down to join her and the little star.\n",
      "\n",
      "With the starry friends surrounding her, the little star glowed brighter than ever. “Thank you, Luna! Now I can find my way home!” she chirped with joy.\n",
      "\n",
      "Luna smiled and watched as the little star floated back up into the sky, reuniting with its starry family. The night sky sparkled even more, twinkling with gratitude.\n",
      "\n",
      "As Luna lay back in the meadow, she felt content. She had made a friend and helped someone in need. With her heart full of joy, she closed her eyes and drifted off to sleep, dreaming of adventures among the stars.\n",
      "\n",
      "And from that night on, whenever Luna looked up at the sky, she saw the little star shining brightly, a reminder of the kindness and magic that filled the world.\n",
      "\n",
      "**The End**\n"
     ]
    }
   ],
   "source": [
    "response = openai_client.responses.create(\n",
    "    model=\"gpt-4o-mini\",\n",
    "    input=\"Write a short bedtime story about a unicorn.\"\n",
    ")\n",
    "\n",
    "print(response.output_text)"
   ]
  },
  {
   "cell_type": "code",
   "execution_count": null,
   "id": "cf98d2de-aa9f-4450-a4b4-0ae713a49b6b",
   "metadata": {},
   "outputs": [],
   "source": []
  }
 ],
 "metadata": {
  "kernelspec": {
   "display_name": ".venv",
   "language": "python",
   "name": "python3"
  },
  "language_info": {
   "codemirror_mode": {
    "name": "ipython",
    "version": 3
   },
   "file_extension": ".py",
   "mimetype": "text/x-python",
   "name": "python",
   "nbconvert_exporter": "python",
   "pygments_lexer": "ipython3",
   "version": "3.12.1"
  }
 },
 "nbformat": 4,
 "nbformat_minor": 5
}
