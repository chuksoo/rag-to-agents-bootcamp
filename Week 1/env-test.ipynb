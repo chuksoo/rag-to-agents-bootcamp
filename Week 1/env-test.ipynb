{
 "cells": [
  {
   "cell_type": "code",
   "execution_count": 1,
   "id": "37ffb611-d8d8-4630-ad2a-2db32ac5257e",
   "metadata": {},
   "outputs": [],
   "source": [
    "from openai import OpenAI"
   ]
  },
  {
   "cell_type": "code",
   "execution_count": 2,
   "id": "d37e5ff8-cc9e-4b84-a276-6d5a7387e770",
   "metadata": {},
   "outputs": [],
   "source": [
    "openai_client = OpenAI()"
   ]
  },
  {
   "cell_type": "code",
   "execution_count": 4,
   "id": "c6120fa2-e91e-4afa-9a04-ad6cbb0b3e63",
   "metadata": {},
   "outputs": [
    {
     "name": "stdout",
     "output_type": "stream",
     "text": [
      "**The Magical Journey of Luna the Unicorn**\n",
      "\n",
      "Once upon a time, in a shimmering forest where the trees whispered secrets and the flowers sang soft melodies, lived a gentle unicorn named Luna. Her mane sparkled with colors of the sunset, and her horn glowed like the moonlight, illuminating the paths she trod.\n",
      "\n",
      "One evening, as the sun dipped below the horizon, Luna spotted a peculiar glimmer near the Crystal Lake. Curious, she trotted over and discovered a tiny, lost star named Twinkle. Twinkle had fallen from the sky and longed to find her way back home.\n",
      "\n",
      "“Don’t worry, Twinkle,” said Luna softly. “I will help you return to the sky.”\n",
      "\n",
      "With a flick of her shimmering mane, Luna called upon her magical powers. She danced in the moonlight, creating a trail of glowing sparkles that led to the tallest mountain in the forest. Together, they climbed higher and higher, through cotton candy clouds and gentle breezes.\n",
      "\n",
      "As they reached the peak, Luna looked up at the vast night sky. “There, among the stars, is your home,” she said, pointing with her horn.\n",
      "\n",
      "With her heart filled with hope, Twinkle floated up into the air, but the winds were strong, and she began to waver. Luna didn’t hesitate. She leapt forward, creating a radiant arch of silver light with her horn.\n",
      "\n",
      "“Fly, Twinkle! You can do it!” she encouraged.\n",
      "\n",
      "With a boost from Luna’s magic, Twinkle soared higher, twinkling brightly as she climbed back to her celestial home. The stars welcomed her with twinkling applause, their lights sparkling in gratitude.\n",
      "\n",
      "As Twinkle waved goodbye, Luna felt warmth in her heart. “Goodbye, dear friend! May your light shine forever!”\n",
      "\n",
      "With the task complete, Luna returned to her forest, where the animals awaited her with joyful cheers. They gathered around her, celebrating her bravery and kindness. As the moon shone brightly above, Luna lay down, feeling happy and tired.\n",
      "\n",
      "That night, as she dreamed of starlit skies and swirling adventures, Luna knew that true magic comes from helping others. And from that day on, she wasn't just a unicorn; she was a guardian of dreams, forever watching over the forest and the stars above.\n",
      "\n",
      "And with that, dear little one, it’s time for you to close your eyes and dream of magical adventures, just like Luna. Goodnight! 🌙✨\n"
     ]
    }
   ],
   "source": [
    "response = openai_client.responses.create(\n",
    "    model=\"gpt-4o-mini\",\n",
    "    input=\"Write a short bedtime story about a unicorn.\"\n",
    ")\n",
    "\n",
    "print(response.output_text)"
   ]
  },
  {
   "cell_type": "code",
   "execution_count": null,
   "id": "cf98d2de-aa9f-4450-a4b4-0ae713a49b6b",
   "metadata": {},
   "outputs": [],
   "source": []
  }
 ],
 "metadata": {
  "kernelspec": {
   "display_name": "Python 3 (ipykernel)",
   "language": "python",
   "name": "python3"
  },
  "language_info": {
   "codemirror_mode": {
    "name": "ipython",
    "version": 3
   },
   "file_extension": ".py",
   "mimetype": "text/x-python",
   "name": "python",
   "nbconvert_exporter": "python",
   "pygments_lexer": "ipython3",
   "version": "3.12.1"
  }
 },
 "nbformat": 4,
 "nbformat_minor": 5
}
